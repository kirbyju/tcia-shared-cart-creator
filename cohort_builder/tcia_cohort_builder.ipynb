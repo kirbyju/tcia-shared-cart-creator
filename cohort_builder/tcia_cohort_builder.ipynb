{
 "cells": [
  {
   "cell_type": "code",
   "execution_count": 1,
   "id": "59eebd79-4c32-44d0-b1ff-82578fe7c675",
   "metadata": {
    "tags": []
   },
   "outputs": [
    {
     "ename": "AttributeError",
     "evalue": "module 'streamlit_jupyter' has no attribute 'title'",
     "output_type": "error",
     "traceback": [
      "\u001b[0;31m---------------------------------------------------------------------------\u001b[0m",
      "\u001b[0;31mAttributeError\u001b[0m                            Traceback (most recent call last)",
      "Cell \u001b[0;32mIn[1], line 13\u001b[0m\n\u001b[1;32m      7\u001b[0m \u001b[38;5;28;01mfrom\u001b[39;00m \u001b[38;5;21;01mtcia_utils\u001b[39;00m \u001b[38;5;28;01mimport\u001b[39;00m wordpress\n\u001b[1;32m      9\u001b[0m \u001b[38;5;66;03m#### misc ideas\u001b[39;00m\n\u001b[1;32m     10\u001b[0m \u001b[38;5;66;03m# add section to generate collection-specific real-time selections?\u001b[39;00m\n\u001b[1;32m     11\u001b[0m \u001b[38;5;66;03m#\u001b[39;00m\n\u001b[0;32m---> 13\u001b[0m \u001b[43mst\u001b[49m\u001b[38;5;241;43m.\u001b[39;49m\u001b[43mtitle\u001b[49m(\u001b[38;5;124m\"\u001b[39m\u001b[38;5;124mTCIA-Streamlit Cohort Builder\u001b[39m\u001b[38;5;124m\"\u001b[39m)\n\u001b[1;32m     14\u001b[0m st\u001b[38;5;241m.\u001b[39mwrite(\n\u001b[1;32m     15\u001b[0m \u001b[38;5;250m    \u001b[39m\u001b[38;5;124;03m\"\"\"This app allows users to build a custom TCIA DICOM\u001b[39;00m\n\u001b[1;32m     16\u001b[0m \u001b[38;5;124;03m    dataset using a combination of participant demographics\u001b[39;00m\n\u001b[0;32m   (...)\u001b[0m\n\u001b[1;32m     19\u001b[0m \u001b[38;5;124;03m    \"\"\"\u001b[39;00m\n\u001b[1;32m     20\u001b[0m )\n\u001b[1;32m     22\u001b[0m data_url \u001b[38;5;241m=\u001b[39m \u001b[38;5;124m\"\u001b[39m\u001b[38;5;124mhttps://raw.githubusercontent.com/mcnakhaee/palmerpenguins/master/palmerpenguins/data/penguins.csv\u001b[39m\u001b[38;5;124m\"\u001b[39m\n",
      "\u001b[0;31mAttributeError\u001b[0m: module 'streamlit_jupyter' has no attribute 'title'"
     ]
    }
   ],
   "source": [
    "# streamlit run tcia_cohort_builder.py\n",
    "\n",
    "#import streamlit as st\n",
    "import streamlit_jupyter as st\n",
    "import pandas as pd\n",
    "from tcia_utils import nbia\n",
    "from tcia_utils import wordpress\n",
    "\n",
    "#### misc ideas\n",
    "# add section to generate collection-specific real-time selections?\n",
    "#\n",
    "\n",
    "st.title(\"TCIA-Streamlit Cohort Builder\")\n",
    "st.write(\n",
    "    \"\"\"This app allows users to build a custom TCIA DICOM\n",
    "    dataset using a combination of participant demographics\n",
    "    and metadata from the images.\n",
    "    [Learn more about TCIA data at](<https://www.cancerimagingarchive.net/>).\n",
    "    \"\"\"\n",
    ")\n",
    "\n",
    "data_url = \"https://raw.githubusercontent.com/mcnakhaee/palmerpenguins/master/palmerpenguins/data/penguins.csv\"\n",
    "\n",
    "df = pd.read_csv(data_url)\n",
    "st.filter_dataframe()"
   ]
  },
  {
   "cell_type": "code",
   "execution_count": null,
   "id": "98e02b16-bdc0-45c9-bdca-d611df7418dd",
   "metadata": {},
   "outputs": [],
   "source": []
  },
  {
   "cell_type": "code",
   "execution_count": null,
   "id": "b7ec9f84-cea6-406f-ac32-7a498392c62a",
   "metadata": {},
   "outputs": [],
   "source": []
  },
  {
   "cell_type": "code",
   "execution_count": null,
   "id": "b681e6c0-4ee9-4df7-8b2d-9556e2bf5093",
   "metadata": {},
   "outputs": [],
   "source": []
  }
 ],
 "metadata": {
  "kernelspec": {
   "display_name": "streamlit-venv",
   "language": "python",
   "name": "streamlit-venv"
  },
  "language_info": {
   "codemirror_mode": {
    "name": "ipython",
    "version": 3
   },
   "file_extension": ".py",
   "mimetype": "text/x-python",
   "name": "python",
   "nbconvert_exporter": "python",
   "pygments_lexer": "ipython3",
   "version": "3.10.12"
  }
 },
 "nbformat": 4,
 "nbformat_minor": 5
}
