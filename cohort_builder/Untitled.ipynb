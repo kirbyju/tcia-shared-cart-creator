{
 "cells": [
  {
   "cell_type": "code",
   "execution_count": null,
   "id": "5eae21d9-a216-49ed-80a4-e69099bf4649",
   "metadata": {},
   "outputs": [],
   "source": []
  },
  {
   "cell_type": "code",
   "execution_count": 1,
   "id": "59eebd79-4c32-44d0-b1ff-82578fe7c675",
   "metadata": {
    "tags": []
   },
   "outputs": [
    {
     "ename": "ModuleNotFoundError",
     "evalue": "No module named 'streamlit'",
     "output_type": "error",
     "traceback": [
      "\u001b[0;31m---------------------------------------------------------------------------\u001b[0m",
      "\u001b[0;31mModuleNotFoundError\u001b[0m                       Traceback (most recent call last)",
      "Cell \u001b[0;32mIn[1], line 3\u001b[0m\n\u001b[1;32m      1\u001b[0m \u001b[38;5;66;03m# streamlit run tcia_cohort_builder.py\u001b[39;00m\n\u001b[0;32m----> 3\u001b[0m \u001b[38;5;28;01mimport\u001b[39;00m \u001b[38;5;21;01mstreamlit\u001b[39;00m \u001b[38;5;28;01mas\u001b[39;00m \u001b[38;5;21;01mst\u001b[39;00m\n\u001b[1;32m      4\u001b[0m \u001b[38;5;28;01mimport\u001b[39;00m \u001b[38;5;21;01mpandas\u001b[39;00m \u001b[38;5;28;01mas\u001b[39;00m \u001b[38;5;21;01mpd\u001b[39;00m\n\u001b[1;32m      5\u001b[0m \u001b[38;5;28;01mfrom\u001b[39;00m \u001b[38;5;21;01mtcia_utils\u001b[39;00m \u001b[38;5;28;01mimport\u001b[39;00m nbia\n",
      "\u001b[0;31mModuleNotFoundError\u001b[0m: No module named 'streamlit'"
     ]
    }
   ],
   "source": [
    "# streamlit run tcia_cohort_builder.py\n",
    "\n",
    "#import streamlit as st\n",
    "import streamlit_jupyter\n",
    "import pandas as pd\n",
    "from tcia_utils import nbia\n",
    "from tcia_utils import wordpress\n",
    "\n",
    "#### misc ideas\n",
    "# add section to generate collection-specific real-time selections?\n",
    "#\n",
    "\n",
    "st.title(\"TCIA-Streamlit Cohort Builder\")\n",
    "st.write(\n",
    "    \"\"\"This app allows users to build a custom TCIA DICOM\n",
    "    dataset using a combination of participant demographics\n",
    "    and metadata from the images.\n",
    "    [Learn more about TCIA data at](<https://www.cancerimagingarchive.net/>).\n",
    "    \"\"\"\n",
    ")\n",
    "\n",
    "data_url = \"https://raw.githubusercontent.com/mcnakhaee/palmerpenguins/master/palmerpenguins/data/penguins.csv\"\n",
    "\n",
    "df = pd.read_csv(data_url)\n",
    "st.filter_dataframe()\n"
   ]
  },
  {
   "cell_type": "code",
   "execution_count": null,
   "id": "98e02b16-bdc0-45c9-bdca-d611df7418dd",
   "metadata": {},
   "outputs": [],
   "source": []
  },
  {
   "cell_type": "code",
   "execution_count": null,
   "id": "b7ec9f84-cea6-406f-ac32-7a498392c62a",
   "metadata": {},
   "outputs": [],
   "source": []
  }
 ],
 "metadata": {
  "kernelspec": {
   "display_name": "Python 3 (ipykernel)",
   "language": "python",
   "name": "python3"
  },
  "language_info": {
   "codemirror_mode": {
    "name": "ipython",
    "version": 3
   },
   "file_extension": ".py",
   "mimetype": "text/x-python",
   "name": "python",
   "nbconvert_exporter": "python",
   "pygments_lexer": "ipython3",
   "version": "3.11.8"
  }
 },
 "nbformat": 4,
 "nbformat_minor": 5
}
